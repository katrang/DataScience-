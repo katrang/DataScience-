{
 "cells": [
  {
   "cell_type": "code",
   "execution_count": 1,
   "metadata": {},
   "outputs": [
    {
     "name": "stdin",
     "output_type": "stream",
     "text": [
      " 123456789\n"
     ]
    },
    {
     "name": "stdout",
     "output_type": "stream",
     "text": [
      "20   25\n"
     ]
    }
   ],
   "source": [
    "\n",
    "#enter a long number to add the digits of a number\n",
    "#the even numbers and odd numbers are added seperately\n",
    "\n",
    "n = int(input())\n",
    "even_sum = 0\n",
    "odd_sum = 0\n",
    "while(n > 0):\n",
    "    rem = int(n % 10)\n",
    "    if(rem%2==0):\n",
    "        even_sum = even_sum + int(rem)\n",
    "    else:\n",
    "        odd_sum = odd_sum + int(rem)\n",
    "    n = n/10\n",
    "print(even_sum,\" \",odd_sum)"
   ]
  },
  {
   "cell_type": "code",
   "execution_count": null,
   "metadata": {},
   "outputs": [],
   "source": []
  }
 ],
 "metadata": {
  "kernelspec": {
   "display_name": "Python 3",
   "language": "python",
   "name": "python3"
  },
  "language_info": {
   "codemirror_mode": {
    "name": "ipython",
    "version": 3
   },
   "file_extension": ".py",
   "mimetype": "text/x-python",
   "name": "python",
   "nbconvert_exporter": "python",
   "pygments_lexer": "ipython3",
   "version": "3.7.7"
  }
 },
 "nbformat": 4,
 "nbformat_minor": 4
}
