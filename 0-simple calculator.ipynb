{
 "cells": [
  {
   "cell_type": "code",
   "execution_count": 1,
   "metadata": {},
   "outputs": [
    {
     "name": "stdout",
     "output_type": "stream",
     "text": [
      "1-sum, 2-difference, 3-product, 4-quotient, 5-mod, 6-end of program\n",
      "Enter the number:\n"
     ]
    },
    {
     "name": "stdin",
     "output_type": "stream",
     "text": [
      " 1\n"
     ]
    },
    {
     "name": "stdout",
     "output_type": "stream",
     "text": [
      "enter the 2 numbers:\n"
     ]
    },
    {
     "name": "stdin",
     "output_type": "stream",
     "text": [
      " 67\n",
      " 98\n"
     ]
    },
    {
     "name": "stdout",
     "output_type": "stream",
     "text": [
      "Sum of two numbers: 165\n"
     ]
    }
   ],
   "source": [
    "#simple calculator to find the sum, difference, product, quotient or mod values\n",
    "\n",
    "print(\"1-sum, 2-difference, 3-product, 4-quotient, 5-mod, 6-end of program\")\n",
    "print(\"Enter the number:\")\n",
    "A = int(input())\n",
    "\n",
    "if (A==1):\n",
    "    print(\"enter the 2 numbers:\")\n",
    "    X = int(input())\n",
    "    Y = int(input())\n",
    "    Sum = X + Y\n",
    "    print(\"Sum of two numbers:\", Sum)\n",
    "\n",
    "elif (A==2):\n",
    "    print(\"enter the 2 numbers:\")\n",
    "    X = int(input())\n",
    "    Y = int(input())\n",
    "    difference = X - Y\n",
    "    print (\"Difference of two numbers is: \", difference)\n",
    "\n",
    "elif (A==3):\n",
    "    print(\"enter the 2 numbers:\")\n",
    "    X = int(input())\n",
    "    Y = int(input())\n",
    "    product = X * Y\n",
    "    print (\"Product of two numbers is: \", product)\n",
    "\n",
    "elif (A==4):\n",
    "    print(\"enter the 2 numbers:\")\n",
    "    X = int(input())\n",
    "    Y = int(input())\n",
    "    quotient = X / Y\n",
    "    print (\"Quotient of two numbers is: \", quotient)\n",
    "    \n",
    "elif (A==5):\n",
    "    print(\"enter the 2 numbers:\")\n",
    "    X = int(input())\n",
    "    Y = int(input())\n",
    "    mod = X % Y\n",
    "    print (\"Mod of two numbers is: \", mod)\n",
    "    \n",
    "elif (A==6):\n",
    "    print(\"End of program\")\n",
    "    \n",
    "elif\n",
    "    print(\"invalid option\")"
   ]
  },
  {
   "cell_type": "code",
   "execution_count": 2,
   "metadata": {},
   "outputs": [
    {
     "name": "stdin",
     "output_type": "stream",
     "text": [
      " 4\n",
      " 78\n",
      " 100\n"
     ]
    },
    {
     "name": "stdout",
     "output_type": "stream",
     "text": [
      "0\n"
     ]
    },
    {
     "name": "stdin",
     "output_type": "stream",
     "text": [
      " 2\n",
      " 45\n",
      " 100\n"
     ]
    },
    {
     "name": "stdout",
     "output_type": "stream",
     "text": [
      "-55\n"
     ]
    },
    {
     "name": "stdin",
     "output_type": "stream",
     "text": [
      " 1\n",
      " 56\n",
      " 100\n"
     ]
    },
    {
     "name": "stdout",
     "output_type": "stream",
     "text": [
      "156\n"
     ]
    },
    {
     "name": "stdin",
     "output_type": "stream",
     "text": [
      " 4\n",
      " 89\n",
      " 100\n"
     ]
    },
    {
     "name": "stdout",
     "output_type": "stream",
     "text": [
      "0\n"
     ]
    },
    {
     "name": "stdin",
     "output_type": "stream",
     "text": [
      " 6\n"
     ]
    }
   ],
   "source": [
    "n  = int(input())\n",
    "while n!=6:\n",
    "    if n == 1:\n",
    "        x = int(input())\n",
    "        y = int(input())\n",
    "        print(x+y)\n",
    "    elif n == 2:\n",
    "        x = int(input())\n",
    "        y = int(input())\n",
    "        print(x-y)\n",
    "    elif n == 3:\n",
    "        x = int(input())\n",
    "        y = int(input())\n",
    "        print(x*y)\n",
    "    elif n == 4:\n",
    "        x = int(input())\n",
    "        y = int(input())\n",
    "        print(x//y)\n",
    "    elif n == 5:\n",
    "        x = int(input())\n",
    "        y = int(input())\n",
    "        print(x%y)        \n",
    "    #elif n == 6:\n",
    "    #    quit()\n",
    "    else:\n",
    "        print(\"Invalid Operation\")\n",
    "    n=int(input())"
   ]
  },
  {
   "cell_type": "markdown",
   "metadata": {},
   "source": []
  }
 ],
 "metadata": {
  "kernelspec": {
   "display_name": "Python 3",
   "language": "python",
   "name": "python3"
  },
  "language_info": {
   "codemirror_mode": {
    "name": "ipython",
    "version": 3
   },
   "file_extension": ".py",
   "mimetype": "text/x-python",
   "name": "python",
   "nbconvert_exporter": "python",
   "pygments_lexer": "ipython3",
   "version": "3.7.7"
  }
 },
 "nbformat": 4,
 "nbformat_minor": 4
}
