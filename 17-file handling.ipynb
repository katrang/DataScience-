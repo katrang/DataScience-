{
 "cells": [
  {
   "cell_type": "code",
   "execution_count": 4,
   "metadata": {},
   "outputs": [],
   "source": [
    "# ONLY THEROY\n",
    "# Random access memory (RAM) is volatile which loses its data when computer is turned off, we use files for future use of the data\n",
    "# Usually all our data while running a program is loaded to RAM and executed, hence once the program is over we loose our data\n",
    "# The easiest way to regain the data at a later point of time is by storing the data in files\n",
    "\n",
    "# A file is a named location on disk to store related information\n",
    "# It is used to permanently store data in a non-volatile memory (e.g. hard disk)\n",
    "# When we want to read from or write to a file we need to\n",
    "\n",
    "# 1. Open it\n",
    "# 2. Apply the required operation\n",
    "# 3. Close it, so that resources that are tied with the file are freed\n",
    "\n",
    "# Python has a built-in function open() to open a file\n",
    "# This function returns a file object, also called a handle, as it is used to read or modify the file accordingly"
   ]
  },
  {
   "cell_type": "code",
   "execution_count": 1,
   "metadata": {},
   "outputs": [
    {
     "data": {
      "text/plain": [
       "{}"
      ]
     },
     "execution_count": 1,
     "metadata": {},
     "output_type": "execute_result"
    }
   ],
   "source": [
    "{}"
   ]
  },
  {
   "cell_type": "code",
   "execution_count": 3,
   "metadata": {},
   "outputs": [],
   "source": [
    "# OPEN A FILE\n",
    "\n",
    "f = open(\"sample.txt\")   # Let us open a file in current direcotry\n",
    "\n",
    "f = open('sample.txt', 'r') # read mode eg for csv file\n",
    "\n",
    "f = open('output.txt', 'w') # write mode\n",
    "\n",
    "f = open('output.txt', 'w', encoding='utf8')   # Just to be on the safe side\n"
   ]
  },
  {
   "cell_type": "code",
   "execution_count": null,
   "metadata": {},
   "outputs": [],
   "source": [
    "# CLOSE A FILE\n",
    "\n",
    "f = open('sample.txt')\n",
    "f.close()\n",
    "\n",
    "\n",
    "# Reference we will cover this again in the Python Exceptions segment\n",
    "\n",
    "try:\n",
    "    f = open('sample.txt')\n",
    "finally:     # Perform file operations\n",
    "    f.close()"
   ]
  },
  {
   "cell_type": "code",
   "execution_count": null,
   "metadata": {},
   "outputs": [],
   "source": [
    "# WRITING TO A FILE\n",
    "\n",
    "f = open('output.txt','w')\n",
    "f.write('This is the first line\\n')\n",
    "f.write('Contains 2 lines\\n')\n",
    "f.close()"
   ]
  },
  {
   "cell_type": "code",
   "execution_count": null,
   "metadata": {},
   "outputs": [],
   "source": [
    "#READING FROM A FILE\n",
    "\n",
    "f = open('output.txt', 'r')\n",
    "print(f.read())\n",
    "f.close()\n",
    "\n",
    "# op - This is the first line\n",
    "#      Contains 2 lines"
   ]
  },
  {
   "cell_type": "code",
   "execution_count": null,
   "metadata": {},
   "outputs": [],
   "source": [
    " # \\n - is treated as single character\n",
    "\n",
    "f = open('output.txt', 'r')\n",
    "\n",
    "print(f.read(4))\n",
    "print(f.read(4))\n",
    "print(f.read(10))\n",
    "f.close()\n",
    "\n",
    "# op - This\n",
    "#       is \n",
    "#      the first "
   ]
  },
  {
   "cell_type": "code",
   "execution_count": null,
   "metadata": {},
   "outputs": [],
   "source": [
    "# \\n - called newline character\n",
    "# change our current file cursor (position) using the seek() method\n",
    "# the tell() method returns our current position (in number of bytes)\n",
    "# previous example with out closing gives same output\n",
    "\n",
    "f = open('output.txt', 'r')\n",
    "\n",
    "print(f.read(4))\n",
    "print(f.read(4))\n",
    "print(f.read(10))\n",
    "\n",
    "# op - This\n",
    "#       is \n",
    "#      the first"
   ]
  },
  {
   "cell_type": "code",
   "execution_count": null,
   "metadata": {},
   "outputs": [],
   "source": [
    "# Renaming And Deleting Files In Python\n",
    "\n",
    "import os\n",
    "\n",
    "os.rename('output.txt', 'op.txt')                    # Rename a file from output.txt to op.txt"
   ]
  },
  {
   "cell_type": "code",
   "execution_count": null,
   "metadata": {},
   "outputs": [],
   "source": [
    "f = open('op.txt', 'r')\n",
    "f.readline()\n",
    "\n",
    "# op - 'This is the first line\\n'"
   ]
  },
  {
   "cell_type": "code",
   "execution_count": null,
   "metadata": {},
   "outputs": [],
   "source": [
    "os.remove('op.txt')                         # Delete the file op.txt\n",
    "f = open('op.txt', 'r')\n",
    "f.readline()\n",
    "\n",
    "# op - ---------------------------------------------------------------------------\n",
    "#       FileNotFoundError                         Traceback (most recent call last)\n",
    "#       <ipython-input-68-9069b2cc36e4> in <module>()\n",
    "#       ----> 1 f = open('op.txt', 'r')\n",
    "#       2 f.readline()\n",
    "#       FileNotFoundError: [Errno 2] No such file or directory: 'op.txt'"
   ]
  },
  {
   "cell_type": "code",
   "execution_count": 5,
   "metadata": {},
   "outputs": [
    {
     "data": {
      "text/plain": [
       "'/Users/krithy/DS = 17 to '"
      ]
     },
     "execution_count": 5,
     "metadata": {},
     "output_type": "execute_result"
    }
   ],
   "source": [
    "# Python Directory and File Management\n",
    "\n",
    "# large number of files to handle in your Python program, arrange code within different directories to make things more manageable\n",
    "# A directory or folder is a collection of files and sub directories\n",
    "# Python has the os module, which provides us with many useful methods to work with directories and files as well\n",
    "\n",
    "# present working directory using the getcwd() method\n",
    "# returns in the form of a string\n",
    "\n",
    "import os\n",
    "os.getcwd()"
   ]
  },
  {
   "cell_type": "code",
   "execution_count": null,
   "metadata": {},
   "outputs": [],
   "source": [
    "# Changing Directory\n",
    "# change the current working directory using the chdir() method\n",
    "# The new path that we want to change to must be supplied as a string to this method\n",
    "# We can use both forward slash (/) or the backward slash () to separate path elements\n",
    "\n",
    "os.chdir('F:/LearnPython/AnacondaJupyter/OtherFolder')\n",
    "os.getcwd()\n",
    "\n",
    "# op- 'F:\\\\LearnPython\\\\AnacondaJupyter\\\\OtherFolder'"
   ]
  },
  {
   "cell_type": "code",
   "execution_count": 6,
   "metadata": {},
   "outputs": [
    {
     "data": {
      "text/plain": [
       "['17-file handling.ipynb',\n",
       " '.ipynb_checkpoints',\n",
       " '17-modules.ipynb',\n",
       " '17-package.ipynb']"
      ]
     },
     "execution_count": 6,
     "metadata": {},
     "output_type": "execute_result"
    }
   ],
   "source": [
    "# List Directories and Files\n",
    "\n",
    "os.listdir(os.getcwd())"
   ]
  },
  {
   "cell_type": "code",
   "execution_count": 7,
   "metadata": {},
   "outputs": [
    {
     "data": {
      "text/plain": [
       "['17-file handling.ipynb',\n",
       " 'DummyFolder5',\n",
       " '.ipynb_checkpoints',\n",
       " '17-modules.ipynb',\n",
       " '17-package.ipynb']"
      ]
     },
     "execution_count": 7,
     "metadata": {},
     "output_type": "execute_result"
    }
   ],
   "source": [
    "# Making New Directory\n",
    "\n",
    "os.mkdir('DummyFolder5')\n",
    "os.listdir(os.getcwd())"
   ]
  },
  {
   "cell_type": "code",
   "execution_count": 8,
   "metadata": {},
   "outputs": [],
   "source": [
    "# remove directory\n",
    "# rmdir() method can only remove empty directories\n",
    "# to remove a non-empty directory we can use the rmtree() method inside the shutil module\n",
    "\n",
    "os.rmdir('DummyFolder5')"
   ]
  },
  {
   "cell_type": "code",
   "execution_count": 9,
   "metadata": {},
   "outputs": [
    {
     "data": {
      "text/plain": [
       "['tempfile.txt']"
      ]
     },
     "execution_count": 9,
     "metadata": {},
     "output_type": "execute_result"
    }
   ],
   "source": [
    "os.mkdir('DummyFolder5')\n",
    "os.chdir('./DummyFolder5')\n",
    "f = open('tempfile.txt', 'w')\n",
    "f.write('Hello World')\n",
    "f.close()\n",
    "os.listdir(os.getcwd())"
   ]
  },
  {
   "cell_type": "code",
   "execution_count": 10,
   "metadata": {},
   "outputs": [],
   "source": [
    "os.chdir('../')"
   ]
  },
  {
   "cell_type": "code",
   "execution_count": 11,
   "metadata": {},
   "outputs": [
    {
     "data": {
      "text/plain": [
       "'/Users/krithy/DS = 17 to '"
      ]
     },
     "execution_count": 11,
     "metadata": {},
     "output_type": "execute_result"
    }
   ],
   "source": [
    "os.getcwd()"
   ]
  },
  {
   "cell_type": "code",
   "execution_count": 12,
   "metadata": {},
   "outputs": [
    {
     "ename": "OSError",
     "evalue": "[Errno 66] Directory not empty: 'DummyFolder5'",
     "output_type": "error",
     "traceback": [
      "\u001b[0;31m---------------------------------------------------------------------------\u001b[0m",
      "\u001b[0;31mOSError\u001b[0m                                   Traceback (most recent call last)",
      "\u001b[0;32m<ipython-input-12-28dbc3c899b9>\u001b[0m in \u001b[0;36m<module>\u001b[0;34m\u001b[0m\n\u001b[1;32m      1\u001b[0m \u001b[0;31m# Delete the folder named DummyFolder5\u001b[0m\u001b[0;34m\u001b[0m\u001b[0;34m\u001b[0m\u001b[0;34m\u001b[0m\u001b[0m\n\u001b[0;32m----> 2\u001b[0;31m \u001b[0mos\u001b[0m\u001b[0;34m.\u001b[0m\u001b[0mrmdir\u001b[0m\u001b[0;34m(\u001b[0m\u001b[0;34m'DummyFolder5'\u001b[0m\u001b[0;34m)\u001b[0m\u001b[0;34m\u001b[0m\u001b[0;34m\u001b[0m\u001b[0m\n\u001b[0m",
      "\u001b[0;31mOSError\u001b[0m: [Errno 66] Directory not empty: 'DummyFolder5'"
     ]
    }
   ],
   "source": [
    "# Delete the folder named DummyFolder5\n",
    "# it has a file, so it shows an error\n",
    "\n",
    "os.rmdir('DummyFolder5')"
   ]
  },
  {
   "cell_type": "code",
   "execution_count": 13,
   "metadata": {},
   "outputs": [
    {
     "data": {
      "text/plain": [
       "['17-file handling.ipynb',\n",
       " '.ipynb_checkpoints',\n",
       " '17-modules.ipynb',\n",
       " '17-package.ipynb']"
      ]
     },
     "execution_count": 13,
     "metadata": {},
     "output_type": "execute_result"
    }
   ],
   "source": [
    "# remove an non-empty directory\n",
    "\n",
    "import shutil\n",
    "shutil.rmtree('DummyFolder5')\n",
    "os.listdir(os.getcwd())"
   ]
  },
  {
   "cell_type": "code",
   "execution_count": null,
   "metadata": {},
   "outputs": [],
   "source": []
  }
 ],
 "metadata": {
  "kernelspec": {
   "display_name": "Python 3",
   "language": "python",
   "name": "python3"
  },
  "language_info": {
   "codemirror_mode": {
    "name": "ipython",
    "version": 3
   },
   "file_extension": ".py",
   "mimetype": "text/x-python",
   "name": "python",
   "nbconvert_exporter": "python",
   "pygments_lexer": "ipython3",
   "version": "3.7.7"
  }
 },
 "nbformat": 4,
 "nbformat_minor": 4
}
