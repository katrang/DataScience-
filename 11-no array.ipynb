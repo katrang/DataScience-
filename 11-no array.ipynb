{
 "cells": [
  {
   "cell_type": "code",
   "execution_count": 1,
   "metadata": {},
   "outputs": [
    {
     "name": "stdout",
     "output_type": "stream",
     "text": [
      "['ford', 'BMW', 'Audi', 'toyota']\n"
     ]
    }
   ],
   "source": [
    "#there is no concept of array in python\n",
    "# we can use list instead\n",
    "# index start with 0\n",
    "\n",
    "cars = ['ford', 'BMW', 'Audi', 'toyota']\n",
    "print(cars)"
   ]
  },
  {
   "cell_type": "code",
   "execution_count": 2,
   "metadata": {},
   "outputs": [
    {
     "name": "stdout",
     "output_type": "stream",
     "text": [
      "['Honda', 'BMW', 'Audi', 'toyota']\n"
     ]
    }
   ],
   "source": [
    "# modifing is possible\n",
    "cars[0]=\"Honda\"\n",
    "print(cars)"
   ]
  },
  {
   "cell_type": "code",
   "execution_count": 3,
   "metadata": {},
   "outputs": [
    {
     "name": "stdout",
     "output_type": "stream",
     "text": [
      "4\n",
      "['Honda', 'BMW', 'Audi', 'toyota']\n"
     ]
    }
   ],
   "source": [
    "# length of array\n",
    "print(len(cars))\n",
    "print(cars)"
   ]
  },
  {
   "cell_type": "code",
   "execution_count": 4,
   "metadata": {},
   "outputs": [
    {
     "name": "stdout",
     "output_type": "stream",
     "text": [
      "['Honda', 'Audi', 'toyota']\n"
     ]
    }
   ],
   "source": [
    "# removing an element\n",
    "cars.pop(1)\n",
    "print(cars)"
   ]
  },
  {
   "cell_type": "code",
   "execution_count": 8,
   "metadata": {},
   "outputs": [
    {
     "name": "stdout",
     "output_type": "stream",
     "text": [
      "['Honda', 'Audi', 'toyota', 'benz', 'Audi', 'Audi', 'benz']\n"
     ]
    }
   ],
   "source": [
    "# adding of element\n",
    "cars.append(\"benz\")\n",
    "print(cars)"
   ]
  },
  {
   "cell_type": "code",
   "execution_count": 9,
   "metadata": {},
   "outputs": [
    {
     "name": "stdout",
     "output_type": "stream",
     "text": [
      "Honda\n",
      "Audi\n",
      "toyota\n",
      "benz\n",
      "Audi\n",
      "Audi\n",
      "benz\n",
      "['Honda', 'Audi', 'toyota', 'benz', 'Audi', 'Audi', 'benz']\n"
     ]
    }
   ],
   "source": [
    "# looping the array\n",
    "for x in cars:\n",
    "    print(x)\n",
    "print(cars)"
   ]
  },
  {
   "cell_type": "code",
   "execution_count": 12,
   "metadata": {},
   "outputs": [
    {
     "data": {
      "text/plain": [
       "'Audi'"
      ]
     },
     "execution_count": 12,
     "metadata": {},
     "output_type": "execute_result"
    }
   ],
   "source": [
    "cars.pop(4)"
   ]
  },
  {
   "cell_type": "code",
   "execution_count": 13,
   "metadata": {},
   "outputs": [
    {
     "data": {
      "text/plain": [
       "'Audi'"
      ]
     },
     "execution_count": 13,
     "metadata": {},
     "output_type": "execute_result"
    }
   ],
   "source": [
    "cars.pop(4)"
   ]
  },
  {
   "cell_type": "code",
   "execution_count": 14,
   "metadata": {},
   "outputs": [
    {
     "data": {
      "text/plain": [
       "'benz'"
      ]
     },
     "execution_count": 14,
     "metadata": {},
     "output_type": "execute_result"
    }
   ],
   "source": [
    "cars.pop(4)"
   ]
  },
  {
   "cell_type": "code",
   "execution_count": 15,
   "metadata": {},
   "outputs": [
    {
     "name": "stdout",
     "output_type": "stream",
     "text": [
      "['Honda', 'Audi', 'toyota', 'benz']\n"
     ]
    }
   ],
   "source": [
    "print(cars)"
   ]
  },
  {
   "cell_type": "code",
   "execution_count": 17,
   "metadata": {},
   "outputs": [
    {
     "name": "stdout",
     "output_type": "stream",
     "text": [
      "['Honda', 'toyota', 'benz']\n"
     ]
    }
   ],
   "source": [
    "# removing the specific element using index\n",
    "cars.remove(\"Audi\")\n",
    "print(cars)"
   ]
  },
  {
   "cell_type": "code",
   "execution_count": 22,
   "metadata": {},
   "outputs": [
    {
     "name": "stdout",
     "output_type": "stream",
     "text": [
      "['Honda', 'toyota', 'benz']\n",
      "benz\n"
     ]
    }
   ],
   "source": [
    "#accessing an element using index number\n",
    "x = cars[2]\n",
    "print(cars)\n",
    "print(x)"
   ]
  },
  {
   "cell_type": "code",
   "execution_count": null,
   "metadata": {},
   "outputs": [],
   "source": []
  }
 ],
 "metadata": {
  "kernelspec": {
   "display_name": "Python 3",
   "language": "python",
   "name": "python3"
  },
  "language_info": {
   "codemirror_mode": {
    "name": "ipython",
    "version": 3
   },
   "file_extension": ".py",
   "mimetype": "text/x-python",
   "name": "python",
   "nbconvert_exporter": "python",
   "pygments_lexer": "ipython3",
   "version": "3.7.7"
  }
 },
 "nbformat": 4,
 "nbformat_minor": 4
}
