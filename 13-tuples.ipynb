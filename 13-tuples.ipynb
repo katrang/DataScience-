{
 "cells": [
  {
   "cell_type": "code",
   "execution_count": 1,
   "metadata": {},
   "outputs": [],
   "source": [
    "import numpy as np"
   ]
  },
  {
   "cell_type": "code",
   "execution_count": null,
   "metadata": {},
   "outputs": [],
   "source": [
    "#tuples are similar to list\n",
    "#unlike list tuple is immutable\n",
    "#once defined, then cant be changed\n",
    "#denoted with ()\n",
    "# once value is set it cant be changed\n"
   ]
  },
  {
   "cell_type": "code",
   "execution_count": 2,
   "metadata": {},
   "outputs": [
    {
     "name": "stdout",
     "output_type": "stream",
     "text": [
      "()\n",
      "(94, 6.7, 8, 5.004, 20)\n"
     ]
    }
   ],
   "source": [
    "emptytuple = ()\n",
    "print(emptytuple)\n",
    "\n",
    "numbtuple = (94,6.7,8,5.004,20)\n",
    "print(numbtuple)"
   ]
  },
  {
   "cell_type": "code",
   "execution_count": 3,
   "metadata": {},
   "outputs": [
    {
     "name": "stdout",
     "output_type": "stream",
     "text": [
      "('abc', 45, 7.2222, 'the', 0.1)\n"
     ]
    }
   ],
   "source": [
    "#mixed data tuple\n",
    "\n",
    "mixtuple = ('abc', 45, 7.2222, \"the\", 0.1)\n",
    "print(mixtuple)"
   ]
  },
  {
   "cell_type": "code",
   "execution_count": 9,
   "metadata": {},
   "outputs": [
    {
     "name": "stdout",
     "output_type": "stream",
     "text": [
      "('hello', 100, ('abc', 45, 7.2222, 'the', '0.1'), [3, 4, 5, 6, 'same', 'as', 'kit'])\n"
     ]
    }
   ],
   "source": [
    "#nested tuple\n",
    "#below has a (tuple,(tuple),[list])\n",
    "\n",
    "nestuple = ('hello', 100, ('abc', 45, 7.2222, \"the\", '0.1'), [3,4,5,6,'same',\"as\",\"kit\"])\n",
    "print(nestuple)"
   ]
  },
  {
   "cell_type": "code",
   "execution_count": 10,
   "metadata": {},
   "outputs": [
    {
     "name": "stdout",
     "output_type": "stream",
     "text": [
      "<class 'tuple'>\n"
     ]
    }
   ],
   "source": [
    "print(type(nestuple))"
   ]
  },
  {
   "cell_type": "code",
   "execution_count": 11,
   "metadata": {},
   "outputs": [
    {
     "name": "stdout",
     "output_type": "stream",
     "text": [
      "<class 'str'>\n"
     ]
    }
   ],
   "source": [
    "#only () paranthesis is not enough\n",
    "\n",
    "isItTuple = ('Apple')\n",
    "print(type(isItTuple))"
   ]
  },
  {
   "cell_type": "code",
   "execution_count": 12,
   "metadata": {},
   "outputs": [
    {
     "name": "stdout",
     "output_type": "stream",
     "text": [
      "<class 'tuple'>\n"
     ]
    }
   ],
   "source": [
    "#only () paranthesis is not enough\n",
    "# end with a coma to denote a tuple\n",
    "\n",
    "isItTuple = ('Apple',)\n",
    "print(type(isItTuple))"
   ]
  },
  {
   "cell_type": "code",
   "execution_count": 13,
   "metadata": {},
   "outputs": [
    {
     "name": "stdout",
     "output_type": "stream",
     "text": [
      "<class 'tuple'>\n"
     ]
    }
   ],
   "source": [
    "#only () paranthesis is not enough\n",
    "# end with a coma to denote a tuple\n",
    "#parenthesis is optional but the coma in the end is mandatory\n",
    "\n",
    "isItTuple = 'Apple',\n",
    "print(type(isItTuple))"
   ]
  },
  {
   "cell_type": "code",
   "execution_count": 14,
   "metadata": {},
   "outputs": [
    {
     "name": "stdout",
     "output_type": "stream",
     "text": [
      "<class 'tuple'>\n"
     ]
    }
   ],
   "source": [
    "a = 'adk', 'hfd', 'fgyg',\n",
    "print(type(a))"
   ]
  },
  {
   "cell_type": "code",
   "execution_count": 15,
   "metadata": {},
   "outputs": [
    {
     "name": "stdout",
     "output_type": "stream",
     "text": [
      "fgyg\n"
     ]
    }
   ],
   "source": [
    "#accessing a element is using index number\n",
    "\n",
    "print(a[2])"
   ]
  },
  {
   "cell_type": "code",
   "execution_count": 18,
   "metadata": {},
   "outputs": [
    {
     "name": "stdout",
     "output_type": "stream",
     "text": [
      "fgyg\n",
      "adk\n"
     ]
    }
   ],
   "source": [
    "#last element is -1\n",
    "#first element is 0\n",
    "\n",
    "\n",
    "print(a[-1])\n",
    "print(a[0])"
   ]
  },
  {
   "cell_type": "code",
   "execution_count": 19,
   "metadata": {},
   "outputs": [
    {
     "name": "stdout",
     "output_type": "stream",
     "text": [
      "[3, 4, 5, 6, 'same', 'as', 'kit']\n"
     ]
    }
   ],
   "source": [
    "#in a nested tuple\n",
    "\n",
    "nestuple = ('hello', 100, ('abc', 45, 7.2222, \"the\", '0.1'), [3,4,5,6,'same',\"as\",\"kit\"])\n",
    "print(nestuple[-1])"
   ]
  },
  {
   "cell_type": "code",
   "execution_count": 25,
   "metadata": {},
   "outputs": [
    {
     "name": "stdout",
     "output_type": "stream",
     "text": [
      "(100,)\n"
     ]
    }
   ],
   "source": [
    "print(nestuple[1:2])"
   ]
  },
  {
   "cell_type": "code",
   "execution_count": 27,
   "metadata": {},
   "outputs": [
    {
     "name": "stdout",
     "output_type": "stream",
     "text": [
      "(5, 8, 7, 3, 1)\n"
     ]
    }
   ],
   "source": [
    "# SCLICING\n",
    "\n",
    "new = (5,8,7,3,1)\n",
    "print(new[:]) # prints all elements"
   ]
  },
  {
   "cell_type": "code",
   "execution_count": 28,
   "metadata": {},
   "outputs": [
    {
     "name": "stdout",
     "output_type": "stream",
     "text": [
      "(7, 3, 1)\n"
     ]
    }
   ],
   "source": [
    "#printing element strating from 3rd last element\n",
    "\n",
    "print(new[-3:])"
   ]
  },
  {
   "cell_type": "code",
   "execution_count": 30,
   "metadata": {},
   "outputs": [
    {
     "name": "stdout",
     "output_type": "stream",
     "text": [
      "(8, 7, 3, 1)\n"
     ]
    }
   ],
   "source": [
    "# slicing elements \n",
    "\n",
    "print(new[1:5])"
   ]
  },
  {
   "cell_type": "code",
   "execution_count": 31,
   "metadata": {},
   "outputs": [
    {
     "name": "stdout",
     "output_type": "stream",
     "text": [
      "(1, 3, 5, 7, 2, 4, 6, 8)\n"
     ]
    }
   ],
   "source": [
    "# concatinating tuples\n",
    "\n",
    "mytuple = (1,3,5,7) + (2,4,6,8)\n",
    "print(mytuple)"
   ]
  },
  {
   "cell_type": "code",
   "execution_count": 32,
   "metadata": {},
   "outputs": [
    {
     "name": "stdout",
     "output_type": "stream",
     "text": [
      "('Sun', 'Sun', 'Sun', 'Sun')\n"
     ]
    }
   ],
   "source": [
    "mytuple = ((\"Sun\",)*4)\n",
    "print(mytuple)"
   ]
  },
  {
   "cell_type": "code",
   "execution_count": 33,
   "metadata": {},
   "outputs": [
    {
     "name": "stdout",
     "output_type": "stream",
     "text": [
      "(1, 3, 'abc', 45, 7.2222, 'the', '0.1')\n"
     ]
    },
    {
     "ename": "NameError",
     "evalue": "name 'mytuple' is not defined",
     "output_type": "error",
     "traceback": [
      "\u001b[0;31m---------------------------------------------------------------------------\u001b[0m",
      "\u001b[0;31mNameError\u001b[0m                                 Traceback (most recent call last)",
      "\u001b[0;32m<ipython-input-33-206738399390>\u001b[0m in \u001b[0;36m<module>\u001b[0;34m\u001b[0m\n\u001b[1;32m      5\u001b[0m \u001b[0mprint\u001b[0m\u001b[0;34m(\u001b[0m\u001b[0mmytuple\u001b[0m\u001b[0;34m)\u001b[0m\u001b[0;34m\u001b[0m\u001b[0;34m\u001b[0m\u001b[0m\n\u001b[1;32m      6\u001b[0m \u001b[0;32mdel\u001b[0m \u001b[0mmytuple\u001b[0m\u001b[0;34m\u001b[0m\u001b[0;34m\u001b[0m\u001b[0m\n\u001b[0;32m----> 7\u001b[0;31m \u001b[0mprint\u001b[0m\u001b[0;34m(\u001b[0m\u001b[0mmytuple\u001b[0m\u001b[0;34m)\u001b[0m\u001b[0;34m\u001b[0m\u001b[0;34m\u001b[0m\u001b[0m\n\u001b[0m",
      "\u001b[0;31mNameError\u001b[0m: name 'mytuple' is not defined"
     ]
    }
   ],
   "source": [
    "#no modification is allowed in tuple\n",
    "#but you can delete the whole tuple\n",
    "\n",
    "mytuple = (1,3,'abc', 45, 7.2222, \"the\", '0.1')\n",
    "print(mytuple)\n",
    "del mytuple\n",
    "print(mytuple) #NameError: name 'mytuple' is not defined"
   ]
  },
  {
   "cell_type": "code",
   "execution_count": 34,
   "metadata": {},
   "outputs": [
    {
     "name": "stdout",
     "output_type": "stream",
     "text": [
      "(1, 3, 'abc', 45, 7.2222, 'the', '0.1')\n"
     ]
    }
   ],
   "source": [
    "mytuple = (1,3,'abc', 45, 7.2222, \"the\", '0.1')\n",
    "print(mytuple)\n",
    "del mytuple"
   ]
  },
  {
   "cell_type": "code",
   "execution_count": 35,
   "metadata": {},
   "outputs": [
    {
     "ename": "NameError",
     "evalue": "name 'mytuple' is not defined",
     "output_type": "error",
     "traceback": [
      "\u001b[0;31m---------------------------------------------------------------------------\u001b[0m",
      "\u001b[0;31mNameError\u001b[0m                                 Traceback (most recent call last)",
      "\u001b[0;32m<ipython-input-35-c6c21778968d>\u001b[0m in \u001b[0;36m<module>\u001b[0;34m\u001b[0m\n\u001b[0;32m----> 1\u001b[0;31m \u001b[0mmytuple\u001b[0m\u001b[0;34m\u001b[0m\u001b[0;34m\u001b[0m\u001b[0m\n\u001b[0m",
      "\u001b[0;31mNameError\u001b[0m: name 'mytuple' is not defined"
     ]
    }
   ],
   "source": [
    "mytuple"
   ]
  },
  {
   "cell_type": "code",
   "execution_count": 36,
   "metadata": {},
   "outputs": [
    {
     "data": {
      "text/plain": [
       "5"
      ]
     },
     "execution_count": 36,
     "metadata": {},
     "output_type": "execute_result"
    }
   ],
   "source": [
    "#frequeny of the element repeated in a tuple is found using count\n",
    "\n",
    "d = ('Sun', 'Sun', 'Sun', 'Sun',1,3,'abc', 45, 7.2222, \"the\", '0.1','Sun')\n",
    "d.count('Sun')"
   ]
  },
  {
   "cell_type": "code",
   "execution_count": 44,
   "metadata": {},
   "outputs": [
    {
     "name": "stdout",
     "output_type": "stream",
     "text": [
      "45\n"
     ]
    }
   ],
   "source": [
    "#an element can be found using index\n",
    "\n",
    "mytuple = (1,3,'abc', 45, 7.2222, \"the\", '0.1')\n",
    "print(mytuple[3])"
   ]
  },
  {
   "cell_type": "code",
   "execution_count": 45,
   "metadata": {},
   "outputs": [
    {
     "name": "stdout",
     "output_type": "stream",
     "text": [
      "6\n"
     ]
    }
   ],
   "source": [
    "#to find the index of a element\n",
    "\n",
    "print(mytuple.index('0.1'))"
   ]
  },
  {
   "cell_type": "code",
   "execution_count": 46,
   "metadata": {},
   "outputs": [
    {
     "name": "stdout",
     "output_type": "stream",
     "text": [
      "True\n",
      "False\n"
     ]
    }
   ],
   "source": [
    "#membership in tuple\n",
    "\n",
    "print('abc' in mytuple)\n",
    "print('wer' in mytuple)"
   ]
  },
  {
   "cell_type": "code",
   "execution_count": 47,
   "metadata": {},
   "outputs": [
    {
     "name": "stdout",
     "output_type": "stream",
     "text": [
      "7\n"
     ]
    }
   ],
   "source": [
    "# length\n",
    "\n",
    "print(len(mytuple))"
   ]
  },
  {
   "cell_type": "code",
   "execution_count": 48,
   "metadata": {},
   "outputs": [
    {
     "name": "stdout",
     "output_type": "stream",
     "text": [
      "(9, 6.5, 0.56, 12, 45, 8)\n",
      "[0.56, 6.5, 8, 9, 12, 45]\n"
     ]
    }
   ],
   "source": [
    "#sorting in tuple\n",
    "\n",
    "numbtuple = (9, 6.5, 0.56, 12, 45, 8)\n",
    "print(numbtuple)\n",
    "numbtuple = sorted(numbtuple)\n",
    "print(numbtuple)\n"
   ]
  },
  {
   "cell_type": "code",
   "execution_count": 49,
   "metadata": {},
   "outputs": [
    {
     "name": "stdout",
     "output_type": "stream",
     "text": [
      "45\n"
     ]
    }
   ],
   "source": [
    "print(max(numbtuple))"
   ]
  },
  {
   "cell_type": "code",
   "execution_count": 50,
   "metadata": {},
   "outputs": [
    {
     "name": "stdout",
     "output_type": "stream",
     "text": [
      "0.56\n"
     ]
    }
   ],
   "source": [
    "print(min(numbtuple))"
   ]
  },
  {
   "cell_type": "code",
   "execution_count": 52,
   "metadata": {},
   "outputs": [
    {
     "name": "stdout",
     "output_type": "stream",
     "text": [
      "81.06\n"
     ]
    }
   ],
   "source": [
    "print(sum(numbtuple))"
   ]
  },
  {
   "cell_type": "code",
   "execution_count": null,
   "metadata": {},
   "outputs": [],
   "source": [
    " "
   ]
  }
 ],
 "metadata": {
  "kernelspec": {
   "display_name": "Python 3",
   "language": "python",
   "name": "python3"
  },
  "language_info": {
   "codemirror_mode": {
    "name": "ipython",
    "version": 3
   },
   "file_extension": ".py",
   "mimetype": "text/x-python",
   "name": "python",
   "nbconvert_exporter": "python",
   "pygments_lexer": "ipython3",
   "version": "3.7.7"
  }
 },
 "nbformat": 4,
 "nbformat_minor": 4
}
