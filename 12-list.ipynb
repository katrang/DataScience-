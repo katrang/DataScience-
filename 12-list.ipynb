{
 "cells": [
  {
   "cell_type": "code",
   "execution_count": null,
   "metadata": {},
   "outputs": [],
   "source": [
    "# list can have elements of any datatype\n",
    "#strings, int, float, even list\n",
    "#enclosed by []\n",
    "#seperated by coma\n",
    "#list is mutable\n",
    "\n"
   ]
  },
  {
   "cell_type": "code",
   "execution_count": 1,
   "metadata": {},
   "outputs": [
    {
     "name": "stdout",
     "output_type": "stream",
     "text": [
      "[]\n"
     ]
    }
   ],
   "source": [
    "blanklist = []\n",
    "print(blanklist)\n",
    "#declaring a blank list"
   ]
  },
  {
   "cell_type": "code",
   "execution_count": 2,
   "metadata": {},
   "outputs": [
    {
     "name": "stdout",
     "output_type": "stream",
     "text": [
      "['apple', 'banana']\n",
      "[12, 2.3, 56]\n",
      "[[2.3, 4.8, 87], [52, 9.3, 6]]\n",
      "['abc', 23, 4.66, 'def', True]\n",
      "length of the list :  5\n"
     ]
    }
   ],
   "source": [
    "listofstrings = ['apple', \"banana\"]\n",
    "print(listofstrings)\n",
    "\n",
    "listofnumbers = [12, 2.3, 56]\n",
    "print(listofnumbers)\n",
    "\n",
    "listoflists = [[2.3, 4.8, 87],[52, 9.3, 6]]\n",
    "# list within a list\n",
    "print(listoflists)\n",
    "\n",
    "listofmixeddatatypes = ['abc', 23, 4.66, \"def\", True]\n",
    "print(listofmixeddatatypes)\n",
    "print(\"length of the list : \", len(listofmixeddatatypes))\n"
   ]
  },
  {
   "cell_type": "code",
   "execution_count": 3,
   "metadata": {},
   "outputs": [
    {
     "name": "stdout",
     "output_type": "stream",
     "text": [
      "[12, 2.3, 56, 'new element']\n"
     ]
    }
   ],
   "source": [
    "#add element to a list\n",
    "\n",
    "listofnumbers.append(\"new element\")\n",
    "print(listofnumbers)"
   ]
  },
  {
   "cell_type": "code",
   "execution_count": 4,
   "metadata": {},
   "outputs": [
    {
     "name": "stdout",
     "output_type": "stream",
     "text": [
      "['apple', 'banana', 'kiwi']\n"
     ]
    }
   ],
   "source": [
    "#insert element in a particular location\n",
    "\n",
    "listofstrings.insert(2, 'kiwi')\n",
    "print(listofstrings)"
   ]
  },
  {
   "cell_type": "code",
   "execution_count": 5,
   "metadata": {},
   "outputs": [
    {
     "name": "stdout",
     "output_type": "stream",
     "text": [
      "[12, 2.3, 56]\n"
     ]
    }
   ],
   "source": [
    "#remove an item from a list\n",
    "\n",
    "listofnumbers.remove(\"new element\")\n",
    "print(listofnumbers)"
   ]
  },
  {
   "cell_type": "code",
   "execution_count": 6,
   "metadata": {},
   "outputs": [
    {
     "name": "stdout",
     "output_type": "stream",
     "text": [
      "[[2.3, 4.8, 87], [52, 9.3, 6], ['7', '3.00', '500']]\n"
     ]
    }
   ],
   "source": [
    "# list in a list Append/Extend\n",
    "\n",
    "listoflists.append(['7','3.00','500'])\n",
    "print(listoflists)"
   ]
  },
  {
   "cell_type": "code",
   "execution_count": 7,
   "metadata": {},
   "outputs": [
    {
     "name": "stdout",
     "output_type": "stream",
     "text": [
      "['abc', 23, 4.66, 'def', True, [2.3, 4.8, 87], [52, 9.3, 6], ['7', '3.00', '500']]\n"
     ]
    }
   ],
   "source": [
    "# list in a list Append/Extend\n",
    "\n",
    "listofmixeddatatypes.extend(listoflists)\n",
    "print(listofmixeddatatypes)"
   ]
  },
  {
   "cell_type": "code",
   "execution_count": 8,
   "metadata": {},
   "outputs": [
    {
     "name": "stdout",
     "output_type": "stream",
     "text": [
      "['abc', 23, 'def', True, [2.3, 4.8, 87], [52, 9.3, 6], ['7', '3.00', '500']]\n"
     ]
    }
   ],
   "source": [
    "#deleting an element using index\n",
    "#deleting an element using del keyword\n",
    "\n",
    "del listofmixeddatatypes[2]\n",
    "print(listofmixeddatatypes)"
   ]
  },
  {
   "cell_type": "code",
   "execution_count": 9,
   "metadata": {},
   "outputs": [
    {
     "name": "stdout",
     "output_type": "stream",
     "text": [
      "['abc', True, [2.3, 4.8, 87], [52, 9.3, 6], ['7', '3.00', '500']]\n"
     ]
    }
   ],
   "source": [
    "del listofmixeddatatypes[1:3]\n",
    "print(listofmixeddatatypes)"
   ]
  },
  {
   "cell_type": "code",
   "execution_count": 12,
   "metadata": {},
   "outputs": [
    {
     "name": "stdout",
     "output_type": "stream",
     "text": [
      "from list of mixed datatypes, item deleted is ['7', '3.00', '500']\n"
     ]
    }
   ],
   "source": [
    "#deleting an element using pop and remove\n",
    "\n",
    "deleteditem = listofmixeddatatypes.pop(4)\n",
    "print(\"from list of mixed datatypes, item deleted is\", deleteditem)"
   ]
  },
  {
   "cell_type": "code",
   "execution_count": 13,
   "metadata": {},
   "outputs": [
    {
     "name": "stdout",
     "output_type": "stream",
     "text": [
      "['abc', True, [2.3, 4.8, 87], [52, 9.3, 6]]\n"
     ]
    }
   ],
   "source": [
    "print(listofmixeddatatypes)"
   ]
  },
  {
   "cell_type": "code",
   "execution_count": 18,
   "metadata": {},
   "outputs": [
    {
     "name": "stdout",
     "output_type": "stream",
     "text": [
      "found in list\n",
      "not found in list\n"
     ]
    }
   ],
   "source": [
    "#membership operator is and not is\n",
    "\n",
    "if 'abc' in listofmixeddatatypes:\n",
    "    print(\"found in list\")\n",
    "if 'def' not in listofmixeddatatypes:\n",
    "    print(\"not found in list\")\n"
   ]
  },
  {
   "cell_type": "code",
   "execution_count": 19,
   "metadata": {},
   "outputs": [
    {
     "name": "stdout",
     "output_type": "stream",
     "text": [
      "not found\n",
      "found in list\n"
     ]
    }
   ],
   "source": [
    "#membership operator is and not is\n",
    "\n",
    "if 'def' in listofmixeddatatypes:\n",
    "    print(\"found in list\")\n",
    "else:\n",
    "    print(\"not found\")\n",
    "\n",
    "    \n",
    "if 'abc' not in listofmixeddatatypes:\n",
    "    print(\"not found in list\")\n",
    "else:\n",
    "    print(\"found in list\")"
   ]
  },
  {
   "cell_type": "code",
   "execution_count": 22,
   "metadata": {},
   "outputs": [
    {
     "name": "stdout",
     "output_type": "stream",
     "text": [
      "[[52, 9.3, 6], [2.3, 4.8, 87], True, 'abc']\n",
      "['abc', True, [2.3, 4.8, 87], [52, 9.3, 6]]\n"
     ]
    }
   ],
   "source": [
    "#reversing a list\n",
    "\n",
    "print(listofmixeddatatypes)\n",
    "\n",
    "listofmixeddatatypes.reverse()\n",
    "\n",
    "print(listofmixeddatatypes)"
   ]
  },
  {
   "cell_type": "code",
   "execution_count": 23,
   "metadata": {},
   "outputs": [
    {
     "name": "stdout",
     "output_type": "stream",
     "text": [
      "[12, 2.3, 56]\n"
     ]
    }
   ],
   "source": [
    "#sorting\n",
    "#the datatype of each element in the list should be the same for sorting\n",
    "\n",
    "print(listofnumbers)"
   ]
  },
  {
   "cell_type": "code",
   "execution_count": 24,
   "metadata": {},
   "outputs": [
    {
     "name": "stdout",
     "output_type": "stream",
     "text": [
      "[2.3, 12, 56]\n"
     ]
    }
   ],
   "source": [
    "sortedlist = sorted(listofnumbers)\n",
    "print(sortedlist)"
   ]
  },
  {
   "cell_type": "code",
   "execution_count": 27,
   "metadata": {},
   "outputs": [
    {
     "name": "stdout",
     "output_type": "stream",
     "text": [
      "['apple', 'banana', 'kiwi', 'mango']\n"
     ]
    }
   ],
   "source": [
    "# applies for string datatype also\n",
    "\n",
    "listofstrings = ['kiwi','apple', 'banana', 'mango']\n",
    "sortedliststr = sorted(listofstrings)\n",
    "print(sortedliststr)"
   ]
  },
  {
   "cell_type": "code",
   "execution_count": 28,
   "metadata": {},
   "outputs": [
    {
     "data": {
      "text/plain": [
       "[1, 2, 3, 4, 5, 6, 7, 8]"
      ]
     },
     "execution_count": 28,
     "metadata": {},
     "output_type": "execute_result"
    }
   ],
   "source": [
    "#multiple reference to a list\n",
    "\n",
    "a = [1, 2, 3, 4, 5, 6, 7, 8]\n",
    "a"
   ]
  },
  {
   "cell_type": "code",
   "execution_count": 30,
   "metadata": {},
   "outputs": [
    {
     "data": {
      "text/plain": [
       "[1, 2, 3, 4, 5, 6, 7, 8, 9, 9]"
      ]
     },
     "execution_count": 30,
     "metadata": {},
     "output_type": "execute_result"
    }
   ],
   "source": [
    "a.append(9)\n",
    "a"
   ]
  },
  {
   "cell_type": "code",
   "execution_count": 42,
   "metadata": {},
   "outputs": [
    {
     "name": "stdout",
     "output_type": "stream",
     "text": [
      "['grape, apple', ' kiwi', ' berry']\n"
     ]
    }
   ],
   "source": [
    "#split a string created in a list\n",
    "#here the seperator mentioned is @\n",
    "\n",
    "string = \"grape, apple@ kiwi@ berry\"\n",
    "splitlist = string.split('@')\n",
    "print(splitlist)"
   ]
  },
  {
   "cell_type": "code",
   "execution_count": 38,
   "metadata": {},
   "outputs": [
    {
     "name": "stdout",
     "output_type": "stream",
     "text": [
      "['let', 'us', 'split', 'this', 'statement']\n"
     ]
    }
   ],
   "source": [
    "# by default the seperator is space or tab\n",
    "\n",
    "mystr = \"let us split this statement\"\n",
    "splitstr = mystr.split()\n",
    "print(splitstr)"
   ]
  },
  {
   "cell_type": "code",
   "execution_count": 43,
   "metadata": {},
   "outputs": [
    {
     "name": "stdout",
     "output_type": "stream",
     "text": [
      "8\n",
      "1\n"
     ]
    }
   ],
   "source": [
    "#indexing\n",
    "\n",
    "a = [1, 2, 3, 4, 5, 6, 7, 8]\n",
    "print(a[-1]) #last element\n",
    "print(a[0]) #first element"
   ]
  },
  {
   "cell_type": "code",
   "execution_count": 44,
   "metadata": {},
   "outputs": [
    {
     "name": "stdout",
     "output_type": "stream",
     "text": [
      "[23, 'abc', 23, 'lei']\n"
     ]
    }
   ],
   "source": [
    "#slicing of list\n",
    "#(start point : end point : stride of skipping elements)\n",
    "#start point if not mentioned then its 0\n",
    "#end point if not mentioned its the end element of the list\n",
    "\n",
    "listofitems = [23,5.908, 'abc', 34, 23, True, \"lei\"]\n",
    "print(listofitems[::2]) \n"
   ]
  },
  {
   "cell_type": "code",
   "execution_count": 45,
   "metadata": {},
   "outputs": [
    {
     "name": "stdout",
     "output_type": "stream",
     "text": [
      "['abc', 23, 'lei']\n"
     ]
    }
   ],
   "source": [
    "print(listofitems[2::2]) "
   ]
  },
  {
   "cell_type": "code",
   "execution_count": 46,
   "metadata": {},
   "outputs": [
    {
     "name": "stdout",
     "output_type": "stream",
     "text": [
      "[3, 'io', 2.4, 4, 'kj', 0]\n"
     ]
    }
   ],
   "source": [
    "# extending a list using + symbol\n",
    "\n",
    "x = [3, 'io', 2.4]\n",
    "y = [4, 'kj', 0]\n",
    "z = x + y\n",
    "print(z)"
   ]
  },
  {
   "cell_type": "code",
   "execution_count": 47,
   "metadata": {},
   "outputs": [
    {
     "name": "stdout",
     "output_type": "stream",
     "text": [
      "[0, 1, 4, 9]\n"
     ]
    }
   ],
   "source": [
    "#list comprehenions\n",
    "\n",
    "mylist = []\n",
    "for i in range(4):\n",
    "    mylist.append(i**2)\n",
    "print(mylist)"
   ]
  },
  {
   "cell_type": "code",
   "execution_count": 48,
   "metadata": {},
   "outputs": [
    {
     "name": "stdout",
     "output_type": "stream",
     "text": [
      "[0, 1, 4, 9]\n"
     ]
    }
   ],
   "source": [
    "# simplifying the abloue is as follows\n",
    "\n",
    "mylist = [i**2 for i in range(4)]\n",
    "print(mylist)"
   ]
  },
  {
   "cell_type": "code",
   "execution_count": 51,
   "metadata": {},
   "outputs": [
    {
     "name": "stdout",
     "output_type": "stream",
     "text": [
      "[0, 1, 4, 9]\n"
     ]
    }
   ],
   "source": [
    "# another way\n",
    "\n",
    "a = [0, 1, 2, 3]\n",
    "mylist = []\n",
    "for i in a:\n",
    "    mylist.append(i**2)\n",
    "print(mylist)"
   ]
  },
  {
   "cell_type": "code",
   "execution_count": null,
   "metadata": {},
   "outputs": [],
   "source": []
  }
 ],
 "metadata": {
  "kernelspec": {
   "display_name": "Python 3",
   "language": "python",
   "name": "python3"
  },
  "language_info": {
   "codemirror_mode": {
    "name": "ipython",
    "version": 3
   },
   "file_extension": ".py",
   "mimetype": "text/x-python",
   "name": "python",
   "nbconvert_exporter": "python",
   "pygments_lexer": "ipython3",
   "version": "3.7.7"
  }
 },
 "nbformat": 4,
 "nbformat_minor": 4
}
