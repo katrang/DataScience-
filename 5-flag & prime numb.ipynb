{
 "cells": [
  {
   "cell_type": "code",
   "execution_count": 7,
   "metadata": {},
   "outputs": [
    {
     "name": "stdin",
     "output_type": "stream",
     "text": [
      " 18\n"
     ]
    },
    {
     "name": "stdout",
     "output_type": "stream",
     "text": [
      "n is not prime\n",
      "n is not prime\n",
      "n is not prime\n",
      "n is not prime\n"
     ]
    }
   ],
   "source": [
    "# check is the number is prime number\n",
    "# it should be be divisible by 1 and itself\n",
    "# or check if n is divisible by the number n-1 \n",
    "\n",
    "n = int(input())\n",
    "d = 2\n",
    "while d < n:\n",
    "    if n % d == 0:\n",
    "        print(\"n is not prime\")\n",
    "    d = d + 1\n",
    "    \n",
    "    \n",
    "    \n",
    "#this is not the rigth methods it does not display if the number is prime or not it executes the print statement 4 time"
   ]
  },
  {
   "cell_type": "code",
   "execution_count": 4,
   "metadata": {},
   "outputs": [
    {
     "name": "stdin",
     "output_type": "stream",
     "text": [
      " 17\n"
     ]
    },
    {
     "name": "stdout",
     "output_type": "stream",
     "text": [
      "n is prime\n"
     ]
    }
   ],
   "source": [
    "n = int(input())\n",
    "d = 2\n",
    "flag = False\n",
    "while d < n:\n",
    "    if n % d == 0:\n",
    "        print(\"n is not prime\")\n",
    "        flag = True\n",
    "    d = d + 1\n",
    "\n",
    "if flag:\n",
    "    print(\"n is not prime\")\n",
    "else:\n",
    "    print(\"n is prime\")\n",
    "    \n",
    "#give the output of if the number is prime or not prime"
   ]
  },
  {
   "cell_type": "code",
   "execution_count": null,
   "metadata": {},
   "outputs": [],
   "source": []
  }
 ],
 "metadata": {
  "kernelspec": {
   "display_name": "Python 3",
   "language": "python",
   "name": "python3"
  },
  "language_info": {
   "codemirror_mode": {
    "name": "ipython",
    "version": 3
   },
   "file_extension": ".py",
   "mimetype": "text/x-python",
   "name": "python",
   "nbconvert_exporter": "python",
   "pygments_lexer": "ipython3",
   "version": "3.7.7"
  }
 },
 "nbformat": 4,
 "nbformat_minor": 4
}
