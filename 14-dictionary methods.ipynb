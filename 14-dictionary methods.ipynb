{
 "cells": [
  {
   "cell_type": "code",
   "execution_count": 1,
   "metadata": {},
   "outputs": [
    {
     "name": "stdout",
     "output_type": "stream",
     "text": [
      "{'name': 'Ajay', 'marks': 89, 'hobby': 'drums'}\n"
     ]
    }
   ],
   "source": [
    "keyValDict = {'name': 'Ajay', 'marks': 89, 'hobby' : 'drums'}\n",
    "\n",
    "myDict = keyValDict.copy()\n",
    "print(myDict)"
   ]
  },
  {
   "cell_type": "code",
   "execution_count": 3,
   "metadata": {},
   "outputs": [
    {
     "name": "stdout",
     "output_type": "stream",
     "text": [
      "{'apple': 0, 'banana': 0, 'grapes': 0}\n"
     ]
    }
   ],
   "source": [
    "#fromkeys[seq[,v]] \n",
    "# return a new dictonary with the keyS FROM seq and value equal to v (defaults to none)\n",
    "fruits = {}.fromkeys(['apple','banana','grapes'], 0)\n",
    "print(fruits)"
   ]
  },
  {
   "cell_type": "code",
   "execution_count": 4,
   "metadata": {},
   "outputs": [
    {
     "name": "stdout",
     "output_type": "stream",
     "text": [
      "dict_items([(2, 1), (4, 3), (6, 5), (8, 7)])\n"
     ]
    }
   ],
   "source": [
    "#return a new view of the dictonary items (KEY, VALUE)\n",
    "\n",
    "varDict = {2:1, 4:3, 6:5, 8:7}\n",
    "print(varDict.items())"
   ]
  },
  {
   "cell_type": "code",
   "execution_count": 6,
   "metadata": {},
   "outputs": [
    {
     "name": "stdout",
     "output_type": "stream",
     "text": [
      "dict_keys(['apple', 'banana', 'grapes'])\n",
      "dict_values([2, 4, 6])\n"
     ]
    }
   ],
   "source": [
    "# to get only the key values or the dictionary key value\n",
    "\n",
    "fruits = {'apple':2, 'banana':4, 'grapes':6}\n",
    "\n",
    "print(fruits.keys()) # prints all the keys in the dictionary\n",
    "print(fruits.values())  # prints all the value in the dictionary"
   ]
  },
  {
   "cell_type": "code",
   "execution_count": 7,
   "metadata": {},
   "outputs": [
    {
     "name": "stdout",
     "output_type": "stream",
     "text": [
      "['__class__', '__contains__', '__delattr__', '__delitem__', '__dir__', '__doc__', '__eq__', '__format__', '__ge__', '__getattribute__', '__getitem__', '__gt__', '__hash__', '__init__', '__init_subclass__', '__iter__', '__le__', '__len__', '__lt__', '__ne__', '__new__', '__reduce__', '__reduce_ex__', '__repr__', '__setattr__', '__setitem__', '__sizeof__', '__str__', '__subclasshook__', 'clear', 'copy', 'fromkeys', 'get', 'items', 'keys', 'pop', 'popitem', 'setdefault', 'update', 'values']\n"
     ]
    }
   ],
   "source": [
    "#to view the directory of any function\n",
    "#to show the list of all the available methods and attributes of a dictionary\n",
    "\n",
    "dict = {}\n",
    "print(dir(dict)) "
   ]
  },
  {
   "cell_type": "code",
   "execution_count": null,
   "metadata": {},
   "outputs": [],
   "source": [
    "# ['__class__', '__contains__', '__delattr__', '__delitem__', '__dir__', '__doc__', '__eq__', '__format__',\n",
    "# '__ge__', '__getattribute__', '__getitem__', '__gt__', '__hash__', '__init__', '__init_subclass__', '__iter__',\n",
    "# '__le__', '__len__', '__lt__', '__ne__', '__new__', '__reduce__', '__reduce_ex__', '__repr__',\n",
    "# '__setattr__', '__setitem__', '__sizeof__', '__str__', '__subclasshook__', 'clear', 'copy', 'fromkeys',\n",
    "# 'get', 'items', 'keys', 'pop', 'popitem', 'setdefault', 'update', 'values']"
   ]
  },
  {
   "cell_type": "code",
   "execution_count": null,
   "metadata": {},
   "outputs": [],
   "source": [
    "# to use any function on an existing dict type the dict name followed by dot then press tab"
   ]
  },
  {
   "cell_type": "code",
   "execution_count": 9,
   "metadata": {},
   "outputs": [
    {
     "name": "stdout",
     "output_type": "stream",
     "text": [
      "2\n",
      "4\n",
      "6\n"
     ]
    }
   ],
   "source": [
    "#COMPREHENSION\n",
    "# same as list comprehension\n",
    "# this is for dictionaries\n",
    "\n",
    "fruits = {'apple':2, 'banana':4, 'grapes':6}\n",
    "for fruit in fruits.values():\n",
    "    print(fruit)"
   ]
  },
  {
   "cell_type": "code",
   "execution_count": 10,
   "metadata": {},
   "outputs": [
    {
     "name": "stdout",
     "output_type": "stream",
     "text": [
      "{'banana': 4, 'grapes': 6}\n"
     ]
    }
   ],
   "source": [
    "# to create a new dictionary with only pairs where the value is even\n",
    "fruits = {'apple':33, 'banana':4, 'grapes':6}\n",
    "\n",
    "evenfruits = {k:v for k,v in fruits.items() if v % 2 == 0}\n",
    "print(evenfruits)"
   ]
  },
  {
   "cell_type": "code",
   "execution_count": 11,
   "metadata": {},
   "outputs": [
    {
     "name": "stdout",
     "output_type": "stream",
     "text": [
      "{'apple': 33}\n"
     ]
    }
   ],
   "source": [
    "# to create a new dictionary with only pairs where the value is odd\n",
    "fruits = {'apple':33, 'banana':4, 'grapes':6}\n",
    "evenfruits = {k:v for k,v in fruits.items() if v % 2 != 0}\n",
    "print(evenfruits)"
   ]
  },
  {
   "cell_type": "code",
   "execution_count": 14,
   "metadata": {},
   "outputs": [
    {
     "name": "stdout",
     "output_type": "stream",
     "text": [
      "{'apple': 2, 'banana': 4, 'grapes': 6}\n",
      "{'apple_royal': 24, 'banana_royal': 48, 'grapes_royal': 72}\n"
     ]
    }
   ],
   "source": [
    "# we can perform operations on the key value pairs\n",
    "fruits = {'apple':2, 'banana':4, 'grapes':6}\n",
    "\n",
    "fruitDict = {k + '_royal': v * 12 for k, v in fruits.items() if v % 2 == 0}\n",
    "print(fruits)\n",
    "print(fruitDict)"
   ]
  },
  {
   "cell_type": "code",
   "execution_count": null,
   "metadata": {},
   "outputs": [],
   "source": []
  }
 ],
 "metadata": {
  "kernelspec": {
   "display_name": "Python 3",
   "language": "python",
   "name": "python3"
  },
  "language_info": {
   "codemirror_mode": {
    "name": "ipython",
    "version": 3
   },
   "file_extension": ".py",
   "mimetype": "text/x-python",
   "name": "python",
   "nbconvert_exporter": "python",
   "pygments_lexer": "ipython3",
   "version": "3.7.7"
  }
 },
 "nbformat": 4,
 "nbformat_minor": 4
}
