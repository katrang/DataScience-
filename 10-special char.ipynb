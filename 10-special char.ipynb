{
 "cells": [
  {
   "cell_type": "code",
   "execution_count": 2,
   "metadata": {},
   "outputs": [
    {
     "name": "stdout",
     "output_type": "stream",
     "text": [
      "Age: 40\n",
      "Age +=: 44\n",
      "Age -=: 37\n",
      "Age *=: 148\n",
      "Age /=: 37.0\n",
      "Age %=: 17.0\n",
      "Age //=: 4.0\n",
      "Age **=: 256.0\n"
     ]
    }
   ],
   "source": [
    "age = 40\n",
    "print(\"Age:\", age)\n",
    "\n",
    "age += 4\n",
    "print(\"Age +=:\", age)\n",
    "\n",
    "age -= 7\n",
    "print(\"Age -=:\", age)\n",
    "\n",
    "age *= 4\n",
    "print(\"Age *=:\", age)\n",
    "\n",
    "age /= 4\n",
    "print(\"Age /=:\", age)\n",
    "\n",
    "age %= 20\n",
    "print(\"Age %=:\", age)\n",
    "\n",
    "age //= 4\n",
    "print(\"Age //=:\", age)\n",
    "\n",
    "age **= 4\n",
    "print(\"Age **=:\", age)"
   ]
  },
  {
   "cell_type": "code",
   "execution_count": null,
   "metadata": {},
   "outputs": [],
   "source": []
  }
 ],
 "metadata": {
  "kernelspec": {
   "display_name": "Python 3",
   "language": "python",
   "name": "python3"
  },
  "language_info": {
   "codemirror_mode": {
    "name": "ipython",
    "version": 3
   },
   "file_extension": ".py",
   "mimetype": "text/x-python",
   "name": "python",
   "nbconvert_exporter": "python",
   "pygments_lexer": "ipython3",
   "version": "3.7.7"
  }
 },
 "nbformat": 4,
 "nbformat_minor": 4
}
