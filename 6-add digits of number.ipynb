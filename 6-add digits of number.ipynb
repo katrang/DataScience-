{
 "cells": [
  {
   "cell_type": "code",
   "execution_count": null,
   "metadata": {},
   "outputs": [],
   "source": [
    "# add digits of number, Assingnment\n",
    "\n",
    "'''\n",
    "Write a program to input an integer N and print the sum of all its even digits and\n",
    "sum of all its odd digits separately. Digits means numbers not the places. That is, \n",
    "if the given integer is \"13245\", even digits are 2 & 4 and odd digits are 1, 3 & 5. \n",
    "Input format : Integer N Output format : Sum_of_Even_Digits Sum_of_Odd_Digits \n",
    "(Print first even sum and then odd sum separated by space) Sample Input : 1234 Sample Output : 6 4\n",
    "'''\n",
    "\n"
   ]
  },
  {
   "cell_type": "code",
   "execution_count": 2,
   "metadata": {},
   "outputs": [
    {
     "name": "stdin",
     "output_type": "stream",
     "text": [
      " 556098\n"
     ]
    },
    {
     "name": "stdout",
     "output_type": "stream",
     "text": [
      "14   19\n"
     ]
    }
   ],
   "source": [
    "def iseven(no):\n",
    "    if(no % 2 == 0):\n",
    "        return True\n",
    "    else:\n",
    "        return False\n",
    "\n",
    "n = int(input())\n",
    "even_sum = 0\n",
    "odd_sum = 0\n",
    "while(n > 0):\n",
    "    rem = int(n % 10)\n",
    "    if(iseven(rem)):\n",
    "        even_sum = even_sum + int(rem)\n",
    "    else:\n",
    "        odd_sum = odd_sum + int(rem)\n",
    "    n = n/10\n",
    "print(even_sum,\" \",odd_sum)"
   ]
  },
  {
   "cell_type": "code",
   "execution_count": null,
   "metadata": {},
   "outputs": [],
   "source": []
  }
 ],
 "metadata": {
  "kernelspec": {
   "display_name": "Python 3",
   "language": "python",
   "name": "python3"
  },
  "language_info": {
   "codemirror_mode": {
    "name": "ipython",
    "version": 3
   },
   "file_extension": ".py",
   "mimetype": "text/x-python",
   "name": "python",
   "nbconvert_exporter": "python",
   "pygments_lexer": "ipython3",
   "version": "3.7.7"
  }
 },
 "nbformat": 4,
 "nbformat_minor": 4
}
