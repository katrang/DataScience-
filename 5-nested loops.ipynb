{
 "cells": [
  {
   "cell_type": "code",
   "execution_count": 4,
   "metadata": {},
   "outputs": [
    {
     "name": "stdin",
     "output_type": "stream",
     "text": [
      " 17\n"
     ]
    },
    {
     "name": "stdout",
     "output_type": "stream",
     "text": [
      "2\n",
      "3\n",
      "5\n",
      "7\n",
      "11\n",
      "13\n",
      "17\n"
     ]
    }
   ],
   "source": [
    "# nested loop\n",
    "# print all the prime numbers from 2 and n\n",
    "# count = k = 1\n",
    "\n",
    "\n",
    "n = int(input())\n",
    "k = 2  # k as count, initaizer/ initial value to start from\n",
    "\n",
    "while k <= n:   #including n, till k value less than or equal to n\n",
    "    d = 2  #to chek if it is prime on not\n",
    "    flag = False\n",
    "    \n",
    "    while d < k:  \n",
    "        if k % d == 0:\n",
    "            flag = True\n",
    "        d = d + 1\n",
    "   \n",
    "    if not(flag):\n",
    "        print(k)\n",
    "    k = k + 1\n",
    "\n",
    " "
   ]
  },
  {
   "cell_type": "code",
   "execution_count": null,
   "metadata": {},
   "outputs": [],
   "source": []
  }
 ],
 "metadata": {
  "kernelspec": {
   "display_name": "Python 3",
   "language": "python",
   "name": "python3"
  },
  "language_info": {
   "codemirror_mode": {
    "name": "ipython",
    "version": 3
   },
   "file_extension": ".py",
   "mimetype": "text/x-python",
   "name": "python",
   "nbconvert_exporter": "python",
   "pygments_lexer": "ipython3",
   "version": "3.7.7"
  }
 },
 "nbformat": 4,
 "nbformat_minor": 4
}
