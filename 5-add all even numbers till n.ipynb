{
 "cells": [
  {
   "cell_type": "code",
   "execution_count": 2,
   "metadata": {},
   "outputs": [
    {
     "name": "stdin",
     "output_type": "stream",
     "text": [
      " 17\n"
     ]
    },
    {
     "name": "stdout",
     "output_type": "stream",
     "text": [
      "Sum of even numbers till now is:  2\n",
      "Sum of even numbers till now is:  6\n",
      "Sum of even numbers till now is:  12\n",
      "Sum of even numbers till now is:  20\n",
      "Sum of even numbers till now is:  30\n",
      "Sum of even numbers till now is:  42\n",
      "Sum of even numbers till now is:  56\n",
      "Sum of even numbers till now is:  72\n"
     ]
    }
   ],
   "source": [
    "# <= will include the number\n",
    "# if n is 4, sum is 2 + 4\n",
    "# if n is 9, sum is 2 + 4 + 6 + 8 \n",
    "\n",
    "n = int(input())\n",
    "\n",
    "count = 2\n",
    "sum  = 0\n",
    "\n",
    "while count <= n:\n",
    "    sum = count + sum\n",
    "    print (\"Sum of even numbers till now is: \", sum)\n",
    "    count  = count + 2\n",
    "    "
   ]
  },
  {
   "cell_type": "code",
   "execution_count": null,
   "metadata": {},
   "outputs": [],
   "source": []
  }
 ],
 "metadata": {
  "kernelspec": {
   "display_name": "Python 3",
   "language": "python",
   "name": "python3"
  },
  "language_info": {
   "codemirror_mode": {
    "name": "ipython",
    "version": 3
   },
   "file_extension": ".py",
   "mimetype": "text/x-python",
   "name": "python",
   "nbconvert_exporter": "python",
   "pygments_lexer": "ipython3",
   "version": "3.7.7"
  }
 },
 "nbformat": 4,
 "nbformat_minor": 4
}
