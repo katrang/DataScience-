{
 "cells": [
  {
   "cell_type": "code",
   "execution_count": 2,
   "metadata": {},
   "outputs": [
    {
     "name": "stdout",
     "output_type": "stream",
     "text": [
      "var1 is greater: True\n",
      "var1 is smaller: False\n",
      "is the value equal/comparison: False\n",
      "not equal to: True\n",
      "var1 is greater than or equal to var2: True\n",
      "var1 is less than or equal to var2: False\n"
     ]
    }
   ],
   "source": [
    "#relational operators\n",
    "#result is either True or False\n",
    "\n",
    "var1, var2 = 5, 4\n",
    "print(\"var1 is greater:\", var1 > var2)\n",
    "print(\"var1 is smaller:\", var1 < var2)\n",
    "print(\"is the value equal/comparison:\", var1 == var2)\n",
    "print(\"not equal to:\", var1 != var2)\n",
    "print(\"var1 is greater than or equal to var2:\", var1 >= var2)\n",
    "print(\"var1 is less than or equal to var2:\", var1 <= var2)\n"
   ]
  },
  {
   "cell_type": "code",
   "execution_count": null,
   "metadata": {},
   "outputs": [],
   "source": []
  }
 ],
 "metadata": {
  "kernelspec": {
   "display_name": "Python 3",
   "language": "python",
   "name": "python3"
  },
  "language_info": {
   "codemirror_mode": {
    "name": "ipython",
    "version": 3
   },
   "file_extension": ".py",
   "mimetype": "text/x-python",
   "name": "python",
   "nbconvert_exporter": "python",
   "pygments_lexer": "ipython3",
   "version": "3.7.7"
  }
 },
 "nbformat": 4,
 "nbformat_minor": 4
}
