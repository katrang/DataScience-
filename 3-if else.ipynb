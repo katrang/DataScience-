{
 "cells": [
  {
   "cell_type": "code",
   "execution_count": null,
   "metadata": {},
   "outputs": [],
   "source": [
    "'''\n",
    "AND\n",
    "t + t = t\n",
    "t + f = f\n",
    "f + t = f\n",
    "f + f = f\n",
    "\n",
    "OR\n",
    "t + t = t\n",
    "t + f = t\n",
    "f + t = t\n",
    "f + f = f\n",
    "\n",
    "'''"
   ]
  },
  {
   "cell_type": "code",
   "execution_count": 1,
   "metadata": {},
   "outputs": [
    {
     "name": "stdout",
     "output_type": "stream",
     "text": [
      "if block\n",
      "a is true\n"
     ]
    }
   ],
   "source": [
    "# if else condition\n",
    "a = True or false\n",
    "if a:\n",
    "    print(\"if block\")\n",
    "    print(\"a is true\")\n",
    "else:\n",
    "    print(\"else block\")\n",
    "    print(\"a is false\")"
   ]
  },
  {
   "cell_type": "code",
   "execution_count": 2,
   "metadata": {},
   "outputs": [
    {
     "name": "stdin",
     "output_type": "stream",
     "text": [
      " 786\n"
     ]
    },
    {
     "name": "stdout",
     "output_type": "stream",
     "text": [
      "n is even\n"
     ]
    }
   ],
   "source": [
    "# if else condition\n",
    "# find if the number is odd or even\n",
    "# if a is equal to b or not, use (a == b)\n",
    "\n",
    "n = int(input())\n",
    "if n%2 == 0:\n",
    "    print (\"n is even\")\n",
    "else:\n",
    "    print (\"n is odd\")"
   ]
  },
  {
   "cell_type": "code",
   "execution_count": 6,
   "metadata": {},
   "outputs": [
    {
     "name": "stdin",
     "output_type": "stream",
     "text": [
      " 6\n"
     ]
    },
    {
     "name": "stdout",
     "output_type": "stream",
     "text": [
      "n is even\n"
     ]
    }
   ],
   "source": [
    "n = int(input())\n",
    "if n%2 == 0:\n",
    "    print (\"n is even\")\n",
    "elif n%3 == 0:\n",
    "    print (\"divisible by three\")\n",
    "else:\n",
    "    print (\"n is odd\")"
   ]
  },
  {
   "cell_type": "code",
   "execution_count": 5,
   "metadata": {},
   "outputs": [
    {
     "name": "stdin",
     "output_type": "stream",
     "text": [
      " 6\n"
     ]
    },
    {
     "name": "stdout",
     "output_type": "stream",
     "text": [
      "divisible by three\n"
     ]
    }
   ],
   "source": [
    "n = int(input())\n",
    "if n%2 == 1:\n",
    "    print (\"n is  not even\")\n",
    "elif n%3 == 0:\n",
    "    print (\"divisible by three\")\n",
    "else:\n",
    "    print (\"n is odd\")"
   ]
  },
  {
   "cell_type": "code",
   "execution_count": 7,
   "metadata": {},
   "outputs": [
    {
     "name": "stdin",
     "output_type": "stream",
     "text": [
      " 6\n"
     ]
    },
    {
     "name": "stdout",
     "output_type": "stream",
     "text": [
      "n is  not even\n",
      "divisible by three\n"
     ]
    }
   ],
   "source": [
    "n = int(input())\n",
    "if n%2 == 0:\n",
    "    print (\"n is  not even\")\n",
    "if n%3 == 0:\n",
    "    print (\"divisible by three\")\n",
    "else:\n",
    "    print (\"n is odd\")"
   ]
  },
  {
   "cell_type": "code",
   "execution_count": null,
   "metadata": {},
   "outputs": [],
   "source": []
  }
 ],
 "metadata": {
  "kernelspec": {
   "display_name": "Python 3",
   "language": "python",
   "name": "python3"
  },
  "language_info": {
   "codemirror_mode": {
    "name": "ipython",
    "version": 3
   },
   "file_extension": ".py",
   "mimetype": "text/x-python",
   "name": "python",
   "nbconvert_exporter": "python",
   "pygments_lexer": "ipython3",
   "version": "3.7.9"
  }
 },
 "nbformat": 4,
 "nbformat_minor": 4
}
