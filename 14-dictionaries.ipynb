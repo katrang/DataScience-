{
 "cells": [
  {
   "cell_type": "code",
   "execution_count": 1,
   "metadata": {},
   "outputs": [
    {
     "name": "stdout",
     "output_type": "stream",
     "text": [
      "{100: 'intelligent', 50: 'fair'}\n"
     ]
    }
   ],
   "source": [
    "# DICTIONARY = KEY VALUE PAIR\n",
    "\n",
    "myDict = {}\n",
    "myInteregKeyDict = {100 : 'intelligent', 50 : 'fair'}\n",
    "print(myInteregKeyDict)"
   ]
  },
  {
   "cell_type": "code",
   "execution_count": 5,
   "metadata": {},
   "outputs": [
    {
     "name": "stdout",
     "output_type": "stream",
     "text": [
      "{'name': 'sunchitha', 10: ['sun', 'star']}\n"
     ]
    }
   ],
   "source": [
    "myMixedKeyDict = {'name': 'sunchitha', 10:['sun','star']}\n",
    "print(myMixedKeyDict)"
   ]
  },
  {
   "cell_type": "code",
   "execution_count": 6,
   "metadata": {},
   "outputs": [
    {
     "name": "stdout",
     "output_type": "stream",
     "text": [
      "{}\n",
      "<class 'dict'>\n"
     ]
    }
   ],
   "source": [
    "myDict = dict()\n",
    "print(myDict)\n",
    "print(type(myDict))"
   ]
  },
  {
   "cell_type": "code",
   "execution_count": 7,
   "metadata": {},
   "outputs": [
    {
     "name": "stdout",
     "output_type": "stream",
     "text": [
      "{4: 'abc', 2: 'sd'}\n"
     ]
    }
   ],
   "source": [
    "# create a dict with a list of TUPLES\n",
    "\n",
    "myDict = dict([(4, 'abc'), (2, 'sd')])\n",
    "print(myDict)"
   ]
  },
  {
   "cell_type": "code",
   "execution_count": 8,
   "metadata": {},
   "outputs": [
    {
     "name": "stdout",
     "output_type": "stream",
     "text": [
      "ajay\n"
     ]
    }
   ],
   "source": [
    "#DIRECT ACCESS \n",
    "\n",
    "myDict = {'name': 'ajay', 'marks': 98, 'hobby': 'drums'}\n",
    "\n",
    "print(myDict['name'])"
   ]
  },
  {
   "cell_type": "code",
   "execution_count": 10,
   "metadata": {},
   "outputs": [
    {
     "name": "stdout",
     "output_type": "stream",
     "text": [
      "98\n"
     ]
    }
   ],
   "source": [
    "#another method\n",
    "\n",
    "print(myDict.get('marks'))"
   ]
  },
  {
   "cell_type": "code",
   "execution_count": 11,
   "metadata": {},
   "outputs": [
    {
     "ename": "KeyError",
     "evalue": "'age'",
     "output_type": "error",
     "traceback": [
      "\u001b[0;31m---------------------------------------------------------------------------\u001b[0m",
      "\u001b[0;31mKeyError\u001b[0m                                  Traceback (most recent call last)",
      "\u001b[0;32m<ipython-input-11-3d6a7ac43f32>\u001b[0m in \u001b[0;36m<module>\u001b[0;34m\u001b[0m\n\u001b[1;32m      1\u001b[0m \u001b[0;31m#difference between the two methords are\u001b[0m\u001b[0;34m\u001b[0m\u001b[0;34m\u001b[0m\u001b[0;34m\u001b[0m\u001b[0m\n\u001b[0;32m----> 2\u001b[0;31m \u001b[0mprint\u001b[0m\u001b[0;34m(\u001b[0m\u001b[0mmyDict\u001b[0m\u001b[0;34m[\u001b[0m\u001b[0;34m'age'\u001b[0m\u001b[0;34m]\u001b[0m\u001b[0;34m)\u001b[0m\u001b[0;34m\u001b[0m\u001b[0;34m\u001b[0m\u001b[0m\n\u001b[0m",
      "\u001b[0;31mKeyError\u001b[0m: 'age'"
     ]
    }
   ],
   "source": [
    "#difference between the two methords are\n",
    "print(myDict['age'])"
   ]
  },
  {
   "cell_type": "code",
   "execution_count": 12,
   "metadata": {},
   "outputs": [
    {
     "name": "stdout",
     "output_type": "stream",
     "text": [
      "None\n"
     ]
    }
   ],
   "source": [
    "print(myDict.get('age'))"
   ]
  },
  {
   "cell_type": "code",
   "execution_count": 13,
   "metadata": {},
   "outputs": [
    {
     "name": "stdout",
     "output_type": "stream",
     "text": [
      "{'name': 'Rakesh', 'marks': 98, 'hobby': 'drums'}\n"
     ]
    }
   ],
   "source": [
    "# ADD or MODIFY files\n",
    "myDict['name'] = 'Rakesh'\n",
    "print(myDict)"
   ]
  },
  {
   "cell_type": "code",
   "execution_count": 14,
   "metadata": {},
   "outputs": [
    {
     "name": "stdout",
     "output_type": "stream",
     "text": [
      "{'name': 'Rakesh', 'marks': 98, 'hobby': 'drums', 'division': 'A'}\n"
     ]
    }
   ],
   "source": [
    "myDict['division'] = 'A'\n",
    "print(myDict)"
   ]
  },
  {
   "cell_type": "code",
   "execution_count": 17,
   "metadata": {},
   "outputs": [
    {
     "name": "stdout",
     "output_type": "stream",
     "text": [
      "98\n",
      "{'name': 'Rakesh', 'hobby': 'drums'}\n"
     ]
    }
   ],
   "source": [
    "#pop\n",
    "\n",
    "myDict = {'name': 'Rakesh', 'marks': 98, 'hobby': 'drums'}\n",
    "print(myDict.pop('marks'))\n",
    "print(myDict)"
   ]
  },
  {
   "cell_type": "code",
   "execution_count": 19,
   "metadata": {},
   "outputs": [
    {
     "name": "stdout",
     "output_type": "stream",
     "text": [
      "{'name': 'Rakesh', 'hobby': 'drums'}\n"
     ]
    }
   ],
   "source": [
    "KeyValDict = {'name': 'Rakesh', 'marks': 98, 'hobby': 'drums'}\n",
    "del KeyValDict['marks']\n",
    "print(KeyValDict)"
   ]
  },
  {
   "cell_type": "code",
   "execution_count": 20,
   "metadata": {},
   "outputs": [
    {
     "name": "stdout",
     "output_type": "stream",
     "text": [
      "{'name': 'Rakesh', 'hobby': 'drums'}\n",
      "{}\n"
     ]
    }
   ],
   "source": [
    "# remove all items\n",
    "\n",
    "print(KeyValDict)\n",
    "KeyValDict.clear()\n",
    "print(KeyValDict)"
   ]
  },
  {
   "cell_type": "code",
   "execution_count": null,
   "metadata": {},
   "outputs": [],
   "source": []
  }
 ],
 "metadata": {
  "kernelspec": {
   "display_name": "Python 3",
   "language": "python",
   "name": "python3"
  },
  "language_info": {
   "codemirror_mode": {
    "name": "ipython",
    "version": 3
   },
   "file_extension": ".py",
   "mimetype": "text/x-python",
   "name": "python",
   "nbconvert_exporter": "python",
   "pygments_lexer": "ipython3",
   "version": "3.7.7"
  }
 },
 "nbformat": 4,
 "nbformat_minor": 4
}
