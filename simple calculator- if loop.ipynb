{
 "cells": [
  {
   "cell_type": "code",
   "execution_count": null,
   "metadata": {},
   "outputs": [
    {
     "name": "stdin",
     "output_type": "stream",
     "text": [
      " 3\n",
      " 90\n",
      " 3\n"
     ]
    },
    {
     "name": "stdout",
     "output_type": "stream",
     "text": [
      "270\n"
     ]
    }
   ],
   "source": [
    "#simple calculator using if loop\n",
    "\n",
    "n  = int(input())\n",
    "while n!=6:\n",
    "    if n == 1:\n",
    "        x = int(input())\n",
    "        y = int(input())\n",
    "        print(x+y)\n",
    "    elif n == 2:\n",
    "        x = int(input())\n",
    "        y = int(input())\n",
    "        print(x-y)\n",
    "    elif n == 3:\n",
    "        x = int(input())\n",
    "        y = int(input())\n",
    "        print(x*y)\n",
    "    elif n == 4:\n",
    "        x = int(input())\n",
    "        y = int(input())\n",
    "        print(x//y)\n",
    "    elif n == 5:\n",
    "        x = int(input())\n",
    "        y = int(input())\n",
    "        print(x%y)        \n",
    "    #elif n == 6: not required to be typed\n",
    "    #    quit()\n",
    "    else:\n",
    "        print(\"Invalid Operation\")\n",
    "    n=int(input())"
   ]
  },
  {
   "cell_type": "code",
   "execution_count": null,
   "metadata": {},
   "outputs": [],
   "source": []
  }
 ],
 "metadata": {
  "kernelspec": {
   "display_name": "Python 3",
   "language": "python",
   "name": "python3"
  },
  "language_info": {
   "codemirror_mode": {
    "name": "ipython",
    "version": 3
   },
   "file_extension": ".py",
   "mimetype": "text/x-python",
   "name": "python",
   "nbconvert_exporter": "python",
   "pygments_lexer": "ipython3",
   "version": "3.7.7"
  }
 },
 "nbformat": 4,
 "nbformat_minor": 4
}
