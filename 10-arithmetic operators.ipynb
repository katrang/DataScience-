{
 "cells": [
  {
   "cell_type": "code",
   "execution_count": 3,
   "metadata": {},
   "outputs": [
    {
     "name": "stdout",
     "output_type": "stream",
     "text": [
      "addition: 7\n",
      "subtraction: 3\n",
      "multiplication: 10\n",
      "division/float value: 2.5\n",
      "power: 25\n",
      "floor division: 2\n",
      "modulus/remainder: 1\n"
     ]
    }
   ],
   "source": [
    "var1 = 5\n",
    "var2 = 2\n",
    "# or can be writtwn in one statement as (var1, var2 = 5, 4)\n",
    "\n",
    "print(\"addition:\", var1 + var2)\n",
    "print(\"subtraction:\", var1 - var2)\n",
    "print(\"multiplication:\", var1 * var2)\n",
    "print(\"division/float value:\", var1 / var2)\n",
    "print(\"power:\", var1 ** var2)\n",
    "print(\"floor division/quotient:\", var1 // var2)\n",
    "print(\"modulus/remainder:\", var1 % var2)\n"
   ]
  },
  {
   "cell_type": "code",
   "execution_count": null,
   "metadata": {},
   "outputs": [],
   "source": []
  }
 ],
 "metadata": {
  "kernelspec": {
   "display_name": "Python 3",
   "language": "python",
   "name": "python3"
  },
  "language_info": {
   "codemirror_mode": {
    "name": "ipython",
    "version": 3
   },
   "file_extension": ".py",
   "mimetype": "text/x-python",
   "name": "python",
   "nbconvert_exporter": "python",
   "pygments_lexer": "ipython3",
   "version": "3.7.7"
  }
 },
 "nbformat": 4,
 "nbformat_minor": 4
}
