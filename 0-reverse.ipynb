{
 "cells": [
  {
   "cell_type": "code",
   "execution_count": 1,
   "metadata": {},
   "outputs": [
    {
     "name": "stdin",
     "output_type": "stream",
     "text": [
      " 67\n"
     ]
    },
    {
     "name": "stdout",
     "output_type": "stream",
     "text": [
      "false\n",
      "not valid\n"
     ]
    }
   ],
   "source": [
    "#reversing not working\n",
    "\n",
    "n = int(input())\n",
    "num = n\n",
    "rev = 0\n",
    "while n >  0:\n",
    "    rem = n%10\n",
    "    rev = (rev * 10) + rem\n",
    "    n = n//10\n",
    "reverse = rev\n",
    "if num == reverse:\n",
    "    print('true')\n",
    "else:\n",
    "    print('false')\n",
    "print('not valid')"
   ]
  },
  {
   "cell_type": "code",
   "execution_count": 2,
   "metadata": {},
   "outputs": [
    {
     "name": "stdin",
     "output_type": "stream",
     "text": [
      " 333\n"
     ]
    },
    {
     "name": "stdout",
     "output_type": "stream",
     "text": [
      "false\n"
     ]
    }
   ],
   "source": [
    "#reversing the number\n",
    "\n",
    "\n",
    "\n",
    "n = int(input())\n",
    "rev = 0\n",
    "while n >  0:\n",
    "    rem = n%10\n",
    "    rev = (rev *10) + rem\n",
    "    n = n//10\n",
    "    \n",
    "if (rev == n):\n",
    "    print(\"true\")\n",
    "    print(rev)\n",
    "else:\n",
    "    print(\"false\")"
   ]
  },
  {
   "cell_type": "code",
   "execution_count": null,
   "metadata": {},
   "outputs": [],
   "source": []
  }
 ],
 "metadata": {
  "kernelspec": {
   "display_name": "Python 3",
   "language": "python",
   "name": "python3"
  },
  "language_info": {
   "codemirror_mode": {
    "name": "ipython",
    "version": 3
   },
   "file_extension": ".py",
   "mimetype": "text/x-python",
   "name": "python",
   "nbconvert_exporter": "python",
   "pygments_lexer": "ipython3",
   "version": "3.7.7"
  }
 },
 "nbformat": 4,
 "nbformat_minor": 4
}
