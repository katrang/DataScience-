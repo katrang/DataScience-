{
 "cells": [
  {
   "cell_type": "code",
   "execution_count": 1,
   "metadata": {},
   "outputs": [
    {
     "name": "stdin",
     "output_type": "stream",
     "text": [
      " 8\n"
     ]
    },
    {
     "name": "stdout",
     "output_type": "stream",
     "text": [
      "the sum of number till now is:  1\n",
      "the sum of number till now is:  3\n",
      "the sum of number till now is:  6\n",
      "the sum of number till now is:  10\n",
      "the sum of number till now is:  15\n",
      "the sum of number till now is:  21\n",
      "the sum of number till now is:  28\n",
      "the sum of number till now is:  36\n"
     ]
    }
   ],
   "source": [
    "# add of all numbers till n value\n",
    "# print sum of n numbers till n using while loop\n",
    "# == is checking\n",
    "# = means its assinging\n",
    "# count incrementation using count = count + one\n",
    "#\n",
    "\n",
    "\n",
    "n = int(input())\n",
    "count = 1\n",
    "sum = 0\n",
    "while count <= n:\n",
    "    sum = count + sum\n",
    "    print(\"the sum of number till now is: \", sum)\n",
    "    count = count + 1\n"
   ]
  },
  {
   "cell_type": "code",
   "execution_count": null,
   "metadata": {},
   "outputs": [],
   "source": []
  }
 ],
 "metadata": {
  "kernelspec": {
   "display_name": "Python 3",
   "language": "python",
   "name": "python3"
  },
  "language_info": {
   "codemirror_mode": {
    "name": "ipython",
    "version": 3
   },
   "file_extension": ".py",
   "mimetype": "text/x-python",
   "name": "python",
   "nbconvert_exporter": "python",
   "pygments_lexer": "ipython3",
   "version": "3.7.7"
  }
 },
 "nbformat": 4,
 "nbformat_minor": 4
}
