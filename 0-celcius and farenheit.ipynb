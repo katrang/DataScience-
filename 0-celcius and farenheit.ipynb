{
 "cells": [
  {
   "cell_type": "code",
   "execution_count": 1,
   "metadata": {},
   "outputs": [
    {
     "name": "stdin",
     "output_type": "stream",
     "text": [
      " 0\n",
      " 100\n",
      " 20\n"
     ]
    },
    {
     "name": "stdout",
     "output_type": "stream",
     "text": [
      "0   -17\n",
      "20   -6\n",
      "40   4\n",
      "60   15\n",
      "80   26\n",
      "100   37\n"
     ]
    }
   ],
   "source": [
    "# celcius and farenheit\n",
    "\n",
    "\n",
    "s = int(input())\n",
    "e = int(input())\n",
    "w = int(input())\n",
    "\n",
    "while s <= e:\n",
    "    c = int((s-32)/1.8)\n",
    "    print(s,\" \",c)\n",
    "    s = s + w\n",
    "    \n"
   ]
  },
  {
   "cell_type": "code",
   "execution_count": 2,
   "metadata": {},
   "outputs": [
    {
     "name": "stdout",
     "output_type": "stream",
     "text": [
      "Enter the start value\n"
     ]
    },
    {
     "name": "stdin",
     "output_type": "stream",
     "text": [
      " 0\n"
     ]
    },
    {
     "name": "stdout",
     "output_type": "stream",
     "text": [
      "Enter the end value\n"
     ]
    },
    {
     "name": "stdin",
     "output_type": "stream",
     "text": [
      " 100\n"
     ]
    },
    {
     "name": "stdout",
     "output_type": "stream",
     "text": [
      "Enter the  step size\n"
     ]
    },
    {
     "name": "stdin",
     "output_type": "stream",
     "text": [
      " 20\n"
     ]
    },
    {
     "name": "stdout",
     "output_type": "stream",
     "text": [
      "the fahrenheit value for celsius value is:  0 -17.77777777777778\n",
      "the fahrenheit value and celsius value is:  20 -6\n",
      "the fahrenheit value and celsius value is:  40 4\n",
      "the fahrenheit value and celsius value is:  60 15\n",
      "the fahrenheit value and celsius value is:  80 26\n",
      "the fahrenheit value and celsius value is:  100 37\n",
      "end\n"
     ]
    }
   ],
   "source": [
    "#formula for F->C is ((32°F − 32) × 5/9 = 0°C)\n",
    "\n",
    "print('Enter the start value')\n",
    "S = int(input())\n",
    "print('Enter the end value')\n",
    "E = int(input())\n",
    "print(\"Enter the  step size\")\n",
    "W = int(input())\n",
    "\n",
    "    \n",
    "#F = S\n",
    "C = ((S - 32) * 5/9)\n",
    "print(\"the fahrenheit value for celsius value is: \",S,C)\n",
    "\n",
    "count = 0\n",
    "while (S != E):\n",
    "    S = S + W\n",
    "    C = int((S - 32) * 5/9)\n",
    "    print(\"the fahrenheit value and celsius value is: \",S, C)\n",
    "    count = count + 1\n",
    "\n",
    "print(\"end\")\n",
    "    "
   ]
  },
  {
   "cell_type": "code",
   "execution_count": null,
   "metadata": {},
   "outputs": [],
   "source": []
  }
 ],
 "metadata": {
  "kernelspec": {
   "display_name": "Python 3",
   "language": "python",
   "name": "python3"
  },
  "language_info": {
   "codemirror_mode": {
    "name": "ipython",
    "version": 3
   },
   "file_extension": ".py",
   "mimetype": "text/x-python",
   "name": "python",
   "nbconvert_exporter": "python",
   "pygments_lexer": "ipython3",
   "version": "3.7.7"
  }
 },
 "nbformat": 4,
 "nbformat_minor": 4
}
